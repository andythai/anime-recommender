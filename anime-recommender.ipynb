{
 "cells": [
  {
   "cell_type": "markdown",
   "metadata": {},
   "source": [
    "# Anime Recommender\n",
    "\n",
    "Haoyuan Wang\n",
    "\n",
    "Andy Thai"
   ]
  },
  {
   "cell_type": "code",
   "execution_count": 1,
   "metadata": {
    "collapsed": true
   },
   "outputs": [],
   "source": [
    "# Import statements\n",
    "import csv\n",
    "from pprint import pprint\n",
    "from collections import defaultdict\n",
    "import pandas as pd \n",
    "import numpy as np\n",
    "from sklearn import linear_model\n",
    "from sklearn import svm"
   ]
  },
  {
   "cell_type": "code",
   "execution_count": 5,
   "metadata": {
    "collapsed": true
   },
   "outputs": [],
   "source": [
    "# Read in input csvs\n",
    "df = pd.read_table(\"anime.csv\", sep=\",\")\n",
    "us = pd.read_table(\"rating.csv\", sep=\",\")"
   ]
  },
  {
   "cell_type": "code",
   "execution_count": 6,
   "metadata": {
    "collapsed": true
   },
   "outputs": [],
   "source": [
    "# Initialize variables\n",
    "animeList = {}                    # Anime and their data\n",
    "genreList = defaultdict(list)     # Animes sorted by genre\n",
    "userList = defaultdict(list)      # User's list of anime and rating in a (anime_id,rating) structure\n",
    "userRating = defaultdict(list)    # User's rating\n",
    "userCategory = defaultdict(set)   # User's list of categories they have watched"
   ]
  },
  {
   "cell_type": "markdown",
   "metadata": {},
   "source": [
    "## Set up dictionary data structures"
   ]
  },
  {
   "cell_type": "code",
   "execution_count": 7,
   "metadata": {
    "collapsed": true
   },
   "outputs": [],
   "source": [
    "# To get data from animeList. dictionary = animeList['id']['data']\n",
    "def getData(dictionary):\n",
    "    if not dictionary.isnull().values[0]:\n",
    "        return dictionary.values[0]\n",
    "    else:\n",
    "        return 0"
   ]
  },
  {
   "cell_type": "code",
   "execution_count": 8,
   "metadata": {
    "collapsed": true
   },
   "outputs": [],
   "source": [
    "# Get category data from getData\n",
    "def getCategory(data):\n",
    "    cat=[]\n",
    "    if data:\n",
    "        for x in data.split(', '):\n",
    "            cat.append(x)\n",
    "    return cat"
   ]
  },
  {
   "cell_type": "code",
   "execution_count": 9,
   "metadata": {
    "collapsed": true
   },
   "outputs": [],
   "source": [
    "# Compile the animeList and genreList\n",
    "for index, row in df.iterrows():\n",
    "    animeList[row['anime_id']]=df.loc[[index]]\n",
    "    if not df.loc[[index]]['genre'].isnull().values[0]:\n",
    "        for x in row['genre'].split(', '):\n",
    "            genreList[x].append(row['anime_id'])"
   ]
  },
  {
   "cell_type": "code",
   "execution_count": null,
   "metadata": {
    "collapsed": true
   },
   "outputs": [],
   "source": [
    "# Compile the userList and userRating list\n",
    "for index, row in us.iterrows():\n",
    "    userList[row['user_id']].append(row['anime_id'])\n",
    "    if row['rating'] != -1:\n",
    "        userRating[row['user_id']].append(row['rating'])"
   ]
  },
  {
   "cell_type": "code",
   "execution_count": null,
   "metadata": {
    "collapsed": true
   },
   "outputs": [],
   "source": [
    "# Compile the user category list (do not need to run this, very long)\n",
    "for index, row in us.iterrows():\n",
    "    if int(row['anime_id']) in animeList:\n",
    "        catList= getCategory(getData(animeList[int(row['anime_id'])]['genre']))\n",
    "        for x in catList:\n",
    "            userCategory[row['user_id']].add(x)"
   ]
  },
  {
   "cell_type": "code",
   "execution_count": null,
   "metadata": {
    "collapsed": true
   },
   "outputs": [],
   "source": [
    "# Average rating per user including -1 for no review\n",
    "averageUser = defaultdict(float)\n",
    "stdUser = defaultdict(float)\n",
    "for key in userRating:\n",
    "    averageUser[key] = np.mean(userRating[key])\n",
    "    stdUser[key] = np.std(userRating[key])"
   ]
  },
  {
   "cell_type": "markdown",
   "metadata": {},
   "source": [
    "## Basic Statistics about Dataset"
   ]
  },
  {
   "cell_type": "code",
   "execution_count": 63,
   "metadata": {
    "collapsed": true
   },
   "outputs": [],
   "source": [
    "# Get mean and standard deviation \n",
    "mean_ratings = {}\n",
    "std_ratings = {}\n",
    "total_list=[]\n",
    "genres = genreList.keys()\n",
    "for genre in genres:\n",
    "    animeIDs = genreList[genre]\n",
    "    avg_list = []\n",
    "    for anime in animeIDs:\n",
    "        avg_list.append(int(getData(animeList[anime]['rating'])))\n",
    "        total_list.append(int(getData(animeList[anime]['rating'])))\n",
    "    \n",
    "    mean_ratings[genre] = np.mean(avg_list)\n",
    "    std_ratings[genre] = np.std(avg_list)"
   ]
  },
  {
   "cell_type": "code",
   "execution_count": 64,
   "metadata": {},
   "outputs": [
    {
     "name": "stdout",
     "output_type": "stream",
     "text": [
      "6.11883698498\n"
     ]
    }
   ],
   "source": [
    "print(np.mean(total_list))"
   ]
  },
  {
   "cell_type": "code",
   "execution_count": 53,
   "metadata": {},
   "outputs": [
    {
     "name": "stdout",
     "output_type": "stream",
     "text": [
      "{'Action': 6.1363796133567661,\n",
      " 'Adventure': 6.1771720613287906,\n",
      " 'Cars': 5.958333333333333,\n",
      " 'Comedy': 6.0508073196986008,\n",
      " 'Dementia': 4.5041666666666664,\n",
      " 'Demons': 6.0374149659863949,\n",
      " 'Drama': 6.3908730158730158,\n",
      " 'Ecchi': 6.0910518053375196,\n",
      " 'Fantasy': 6.0134257254222607,\n",
      " 'Game': 6.2320441988950277,\n",
      " 'Harem': 6.381703470031546,\n",
      " 'Hentai': 5.6371603856266432,\n",
      " 'Historical': 6.2270471464019854,\n",
      " 'Horror': 5.8644986449864502,\n",
      " 'Josei': 6.666666666666667,\n",
      " 'Kids': 5.6314481044126783,\n",
      " 'Magic': 6.0552699228791775,\n",
      " 'Martial Arts': 6.3094339622641513,\n",
      " 'Mecha': 6.0688559322033901,\n",
      " 'Military': 6.352112676056338,\n",
      " 'Music': 5.3360465116279068,\n",
      " 'Mystery': 6.6141414141414145,\n",
      " 'Parody': 5.9779411764705879,\n",
      " 'Police': 6.563451776649746,\n",
      " 'Psychological': 6.462882096069869,\n",
      " 'Romance': 6.3879781420765029,\n",
      " 'Samurai': 6.3040540540540544,\n",
      " 'School': 6.2459016393442619,\n",
      " 'Sci-Fi': 6.1251207729468602,\n",
      " 'Seinen': 6.3016453382084094,\n",
      " 'Shoujo': 6.2951907131011611,\n",
      " 'Shoujo Ai': 6.3636363636363633,\n",
      " 'Shounen': 6.4632009345794392,\n",
      " 'Shounen Ai': 6.2769230769230768,\n",
      " 'Slice of Life': 6.1483606557377053,\n",
      " 'Space': 6.1338582677165352,\n",
      " 'Sports': 6.1694290976058932,\n",
      " 'Super Power': 6.2215053763440862,\n",
      " 'Supernatural': 6.2796528447444553,\n",
      " 'Thriller': 6.8160919540229887,\n",
      " 'Vampire': 6.3235294117647056,\n",
      " 'Yaoi': 5.8461538461538458,\n",
      " 'Yuri': 5.5}\n"
     ]
    }
   ],
   "source": [
    "# Mean\n",
    "pprint(mean_ratings)"
   ]
  },
  {
   "cell_type": "code",
   "execution_count": 54,
   "metadata": {},
   "outputs": [
    {
     "name": "stdout",
     "output_type": "stream",
     "text": [
      "{'Action': 1.4081216483159718,\n",
      " 'Adventure': 1.1612527055011501,\n",
      " 'Cars': 1.1718634258687692,\n",
      " 'Comedy': 1.2650820565506755,\n",
      " 'Dementia': 1.2681939805180527,\n",
      " 'Demons': 1.3931177233344414,\n",
      " 'Drama': 1.2739748569952172,\n",
      " 'Ecchi': 1.0577656283292451,\n",
      " 'Fantasy': 1.391458165422288,\n",
      " 'Game': 1.3007735557545461,\n",
      " 'Harem': 0.98380238347728799,\n",
      " 'Hentai': 0.89686590325529569,\n",
      " 'Historical': 1.2290176291513517,\n",
      " 'Horror': 1.3844127752888544,\n",
      " 'Josei': 1.5634719199411433,\n",
      " 'Kids': 1.1598334479768275,\n",
      " 'Magic': 1.4871443076995354,\n",
      " 'Martial Arts': 1.0105601194748286,\n",
      " 'Mecha': 1.2075523133239245,\n",
      " 'Military': 1.319039964754162,\n",
      " 'Music': 1.3859270082710968,\n",
      " 'Mystery': 1.3005834045240054,\n",
      " 'Parody': 1.2860502218072125,\n",
      " 'Police': 1.057861200130007,\n",
      " 'Psychological': 1.3970250641154531,\n",
      " 'Romance': 1.2049614009022478,\n",
      " 'Samurai': 1.3539670630739029,\n",
      " 'School': 1.4582241356079126,\n",
      " 'Sci-Fi': 1.2143652483616236,\n",
      " 'Seinen': 1.3730419125407065,\n",
      " 'Shoujo': 1.1237346324462876,\n",
      " 'Shoujo Ai': 1.1499191491521379,\n",
      " 'Shounen': 1.2044702705017218,\n",
      " 'Shounen Ai': 1.6408974308890318,\n",
      " 'Slice of Life': 1.2656064189282372,\n",
      " 'Space': 1.2982657808225333,\n",
      " 'Sports': 1.3061777867957742,\n",
      " 'Super Power': 1.4204231886720704,\n",
      " 'Supernatural': 1.5095008259401805,\n",
      " 'Thriller': 1.3435990065473524,\n",
      " 'Vampire': 1.3073080011685319,\n",
      " 'Yaoi': 1.2097565243164561,\n",
      " 'Yuri': 1.0522085616183026}\n"
     ]
    }
   ],
   "source": [
    "# Standard deviation \n",
    "pprint(std_ratings)"
   ]
  },
  {
   "cell_type": "markdown",
   "metadata": {},
   "source": [
    "## Baseline Code"
   ]
  },
  {
   "cell_type": "code",
   "execution_count": null,
   "metadata": {
    "collapsed": true
   },
   "outputs": [],
   "source": []
  },
  {
   "cell_type": "markdown",
   "metadata": {},
   "source": [
    "## Create Feature Vectors (Genre One-hot Encoding)"
   ]
  },
  {
   "cell_type": "code",
   "execution_count": null,
   "metadata": {
    "collapsed": true
   },
   "outputs": [],
   "source": [
    "# Compile the feature vector by using one-hot encoding for genres\n",
    "genreOrder = sorted(genreList.keys())\n",
    "feat = []\n",
    "for index, row in us.iterrows():\n",
    "    temp = []\n",
    "    if int(row['anime_id']) in animeList:\n",
    "        catList = getCategory(getData(animeList[int(row['anime_id'])]['genre']))\n",
    "    for x in genreOrder:\n",
    "        if x in catList:\n",
    "            temp.append(1)\n",
    "        else:\n",
    "            temp.append(0)\n",
    "    feat.append(temp)"
   ]
  },
  {
   "cell_type": "code",
   "execution_count": null,
   "metadata": {
    "collapsed": true
   },
   "outputs": [],
   "source": [
    "# Create X feature and Y feature\n",
    "# X = one hot encoding genres\n",
    "# Y = Rating by user for each anime (including -1)\n",
    "X_featureSet = feat\n",
    "Y_featureSet = [row['rating'] for index,row in us.iterrows()]"
   ]
  },
  {
   "cell_type": "code",
   "execution_count": null,
   "metadata": {
    "collapsed": true
   },
   "outputs": [],
   "source": [
    "len(X_featureSet) / 3"
   ]
  },
  {
   "cell_type": "code",
   "execution_count": null,
   "metadata": {
    "collapsed": true
   },
   "outputs": [],
   "source": [
    "# I gave up running this. It never finished.... I am not sure whether prediction rating by genre is a good idea. \n",
    "# Test on validation set\n",
    "lam = [0.01, 0.1, 1, 10]\n",
    "\n",
    "# Calculate accuracy\n",
    "def difference(pred,act):\n",
    "    correct = 0\n",
    "    \n",
    "    for i in range(0, len(pred)):\n",
    "        if pred[i] == act[i]:\n",
    "            correct = correct + 1\n",
    "    return float(correct) / len(pred)\n",
    "    \n",
    "# Run linear SVM\n",
    "clf = svm.LinearSVC(C=1)\n",
    "clf.fit(X_featureSet[:int(len(X_featureSet) / 10)], Y_featureSet[:int(len(Y_featureSet) / 10)])\n",
    "\n",
    "valid_predictions = clf.predict(X_featureSet[int(len(X_featureSet) / 3):int(2 * len(X_featureSet) / 3)])\n",
    "print(\"lambda = \" + str(l) + \":\\taccuracy_valid=\" + str(difference(valid_predictions, Y_featureSet[int(len(Y_featureSet) / 3):int(2 * len(Y_featureSet) / 3)])))"
   ]
  },
  {
   "cell_type": "markdown",
   "metadata": {},
   "source": [
    "## Cosine Similarity Calculations"
   ]
  },
  {
   "cell_type": "code",
   "execution_count": 10,
   "metadata": {
    "collapsed": true
   },
   "outputs": [],
   "source": [
    "from scipy.spatial.distance import cosine"
   ]
  },
  {
   "cell_type": "code",
   "execution_count": 11,
   "metadata": {
    "collapsed": true
   },
   "outputs": [],
   "source": [
    "# Cosine similarity between animes\n",
    "genereList = sorted(genreList.keys())\n",
    "\n",
    "animeFeatureList = []\n",
    "for key in animeList:\n",
    "    temp = []\n",
    "    catList = getCategory(getData(animeList[key]['genre']))\n",
    "    for x in genreList:\n",
    "        if x in catList:\n",
    "            temp.append(1)\n",
    "        else:\n",
    "            temp.append(0)\n",
    "    animeFeatureList.append((key,temp))"
   ]
  },
  {
   "cell_type": "code",
   "execution_count": 12,
   "metadata": {
    "collapsed": true
   },
   "outputs": [],
   "source": [
    "animeFeatureList = [(x,y) for x , y in animeFeatureList if 1 in y]"
   ]
  },
  {
   "cell_type": "code",
   "execution_count": 13,
   "metadata": {
    "scrolled": true
   },
   "outputs": [
    {
     "name": "stdout",
     "output_type": "stream",
     "text": [
      "0.1\n",
      "0.2\n",
      "0.30000000000000004\n",
      "0.4\n",
      "0.5\n",
      "0.6\n",
      "0.7\n",
      "0.7999999999999999\n",
      "0.8999999999999999\n",
      "0.9999999999999999\n"
     ]
    }
   ],
   "source": [
    "# Create cosine datastructure\n",
    "cosine_anime=defaultdict(list)\n",
    "temp=defaultdict(list)\n",
    "percentage =0.1\n",
    "for i in range(0,int(len(animeFeatureList))):\n",
    "    if i == int(len(animeFeatureList)*percentage):\n",
    "        pprint(percentage)\n",
    "        percentage+=0.10\n",
    "    for j in range(i,int(len(animeFeatureList))):\n",
    "        if animeFeatureList[i][0] != animeFeatureList[j][0]:\n",
    "            temp[animeFeatureList[i][0]].append((animeFeatureList[j][0],1-cosine(animeFeatureList[i][1],animeFeatureList[j][1])))\n",
    "            temp[animeFeatureList[j][0]].append((animeFeatureList[i][0],1-cosine(animeFeatureList[i][1],animeFeatureList[j][1])))\n",
    "\n",
    "    cosine_anime[animeFeatureList[i][0]]=sorted(temp[animeFeatureList[i][0]],key=lambda x : x[1], reverse=True)[:10]\n",
    "    temp[animeFeatureList[i][0]]=[]"
   ]
  },
  {
   "cell_type": "code",
   "execution_count": null,
   "metadata": {
    "collapsed": true
   },
   "outputs": [],
   "source": [
    "temp=[]"
   ]
  },
  {
   "cell_type": "code",
   "execution_count": 14,
   "metadata": {
    "collapsed": true
   },
   "outputs": [],
   "source": [
    "for key in cosine_anime:\n",
    "    if len(cosine_anime[key])<10:\n",
    "        pprint((key,cosine_anime[key]))"
   ]
  },
  {
   "cell_type": "code",
   "execution_count": null,
   "metadata": {
    "collapsed": true
   },
   "outputs": [],
   "source": [
    "for x, y in cosine_anime.items():\n",
    "    print(x,y)\n",
    "    break"
   ]
  },
  {
   "cell_type": "code",
   "execution_count": 15,
   "metadata": {
    "collapsed": true
   },
   "outputs": [],
   "source": [
    "# Write to file\n",
    "with open('E:/anime_cosine_sim.csv', 'w') as csv_file:\n",
    "    writer = csv.writer(csv_file)\n",
    "    writer.writerow(['anime_id','top 10 cosine similarities'])\n",
    "    for key, value in cosine_anime.items():\n",
    "        writer.writerow([key, value])"
   ]
  },
  {
   "cell_type": "code",
   "execution_count": 16,
   "metadata": {
    "collapsed": true
   },
   "outputs": [],
   "source": [
    "# Read in saved anime cosine csv\n",
    "cos_sim_csv = pd.read_table(\"E:/anime_cosine_sim.csv\", sep=\",\")"
   ]
  },
  {
   "cell_type": "code",
   "execution_count": 17,
   "metadata": {},
   "outputs": [
    {
     "data": {
      "text/html": [
       "<div>\n",
       "<style>\n",
       "    .dataframe thead tr:only-child th {\n",
       "        text-align: right;\n",
       "    }\n",
       "\n",
       "    .dataframe thead th {\n",
       "        text-align: left;\n",
       "    }\n",
       "\n",
       "    .dataframe tbody tr th {\n",
       "        vertical-align: top;\n",
       "    }\n",
       "</style>\n",
       "<table border=\"1\" class=\"dataframe\">\n",
       "  <thead>\n",
       "    <tr style=\"text-align: right;\">\n",
       "      <th></th>\n",
       "      <th>anime_id</th>\n",
       "      <th>top 10 cosine similarities</th>\n",
       "    </tr>\n",
       "  </thead>\n",
       "  <tbody>\n",
       "    <tr>\n",
       "      <th>0</th>\n",
       "      <td>32281</td>\n",
       "      <td>[(547, 1.0), (546, 1.0), (14669, 0.89442719099...</td>\n",
       "    </tr>\n",
       "    <tr>\n",
       "      <th>1</th>\n",
       "      <td>5114</td>\n",
       "      <td>[(121, 0.93541434669348522), (9135, 0.93541434...</td>\n",
       "    </tr>\n",
       "    <tr>\n",
       "      <th>2</th>\n",
       "      <td>28977</td>\n",
       "      <td>[(9969, 0.99999999999999989), (15335, 0.999999...</td>\n",
       "    </tr>\n",
       "    <tr>\n",
       "      <th>3</th>\n",
       "      <td>9253</td>\n",
       "      <td>[(11577, 0.99999999999999978), (10863, 0.99999...</td>\n",
       "    </tr>\n",
       "    <tr>\n",
       "      <th>4</th>\n",
       "      <td>9969</td>\n",
       "      <td>[(28977, 0.99999999999999989), (15335, 0.99999...</td>\n",
       "    </tr>\n",
       "    <tr>\n",
       "      <th>5</th>\n",
       "      <td>32935</td>\n",
       "      <td>[(28891, 0.99999999999999978), (20583, 0.99999...</td>\n",
       "    </tr>\n",
       "    <tr>\n",
       "      <th>6</th>\n",
       "      <td>11061</td>\n",
       "      <td>[(136, 1.0), (137, 1.0), (139, 1.0), (138, 1.0...</td>\n",
       "    </tr>\n",
       "    <tr>\n",
       "      <th>7</th>\n",
       "      <td>820</td>\n",
       "      <td>[(3665, 1.0), (342, 1.0), (711, 1.0), (11307, ...</td>\n",
       "    </tr>\n",
       "    <tr>\n",
       "      <th>8</th>\n",
       "      <td>15335</td>\n",
       "      <td>[(28977, 0.99999999999999989), (9969, 0.999999...</td>\n",
       "    </tr>\n",
       "    <tr>\n",
       "      <th>9</th>\n",
       "      <td>15417</td>\n",
       "      <td>[(28977, 0.99999999999999989), (9969, 0.999999...</td>\n",
       "    </tr>\n",
       "    <tr>\n",
       "      <th>10</th>\n",
       "      <td>4181</td>\n",
       "      <td>[(1530, 0.89442719099991586), (101, 0.89442719...</td>\n",
       "    </tr>\n",
       "    <tr>\n",
       "      <th>11</th>\n",
       "      <td>28851</td>\n",
       "      <td>[(11313, 0.86602540378443871), (18317, 0.86602...</td>\n",
       "    </tr>\n",
       "    <tr>\n",
       "      <th>12</th>\n",
       "      <td>918</td>\n",
       "      <td>[(28977, 0.99999999999999989), (9969, 0.999999...</td>\n",
       "    </tr>\n",
       "    <tr>\n",
       "      <th>13</th>\n",
       "      <td>2904</td>\n",
       "      <td>[(34437, 1.0000000000000002), (7270, 0.9128709...</td>\n",
       "    </tr>\n",
       "    <tr>\n",
       "      <th>14</th>\n",
       "      <td>28891</td>\n",
       "      <td>[(32935, 0.99999999999999978), (20583, 0.99999...</td>\n",
       "    </tr>\n",
       "    <tr>\n",
       "      <th>15</th>\n",
       "      <td>199</td>\n",
       "      <td>[(26359, 0.86602540378443871), (360, 0.8660254...</td>\n",
       "    </tr>\n",
       "    <tr>\n",
       "      <th>16</th>\n",
       "      <td>23273</td>\n",
       "      <td>[(33743, 0.9128709291752769), (11313, 0.894427...</td>\n",
       "    </tr>\n",
       "    <tr>\n",
       "      <th>17</th>\n",
       "      <td>24701</td>\n",
       "      <td>[(21939, 0.99999999999999989), (457, 0.9999999...</td>\n",
       "    </tr>\n",
       "    <tr>\n",
       "      <th>18</th>\n",
       "      <td>12355</td>\n",
       "      <td>[(5203, 0.99999999999999978), (2223, 0.9999999...</td>\n",
       "    </tr>\n",
       "    <tr>\n",
       "      <th>19</th>\n",
       "      <td>1575</td>\n",
       "      <td>[(4596, 0.9128709291752769), (2124, 0.91287092...</td>\n",
       "    </tr>\n",
       "    <tr>\n",
       "      <th>20</th>\n",
       "      <td>263</td>\n",
       "      <td>[(5258, 1.0), (19647, 1.0), (627, 1.0), (558, ...</td>\n",
       "    </tr>\n",
       "    <tr>\n",
       "      <th>21</th>\n",
       "      <td>44</td>\n",
       "      <td>[(2216, 0.83333333333333348), (12279, 0.833333...</td>\n",
       "    </tr>\n",
       "    <tr>\n",
       "      <th>22</th>\n",
       "      <td>1</td>\n",
       "      <td>[(4037, 1.0000000000000002), (1226, 0.92582009...</td>\n",
       "    </tr>\n",
       "    <tr>\n",
       "      <th>23</th>\n",
       "      <td>30276</td>\n",
       "      <td>[(31772, 0.99999999999999989), (31704, 0.99999...</td>\n",
       "    </tr>\n",
       "    <tr>\n",
       "      <th>24</th>\n",
       "      <td>164</td>\n",
       "      <td>[(22199, 1.0000000000000002), (30911, 1.000000...</td>\n",
       "    </tr>\n",
       "    <tr>\n",
       "      <th>25</th>\n",
       "      <td>7311</td>\n",
       "      <td>[(6974, 0.9128709291752769), (1543, 0.81649658...</td>\n",
       "    </tr>\n",
       "    <tr>\n",
       "      <th>26</th>\n",
       "      <td>17074</td>\n",
       "      <td>[(5081, 0.89442719099991586), (28929, 0.894427...</td>\n",
       "    </tr>\n",
       "    <tr>\n",
       "      <th>27</th>\n",
       "      <td>21939</td>\n",
       "      <td>[(24701, 0.99999999999999989), (457, 0.9999999...</td>\n",
       "    </tr>\n",
       "    <tr>\n",
       "      <th>28</th>\n",
       "      <td>457</td>\n",
       "      <td>[(24701, 0.99999999999999989), (21939, 0.99999...</td>\n",
       "    </tr>\n",
       "    <tr>\n",
       "      <th>29</th>\n",
       "      <td>2001</td>\n",
       "      <td>[(763, 0.99999999999999978), (3352, 0.99999999...</td>\n",
       "    </tr>\n",
       "    <tr>\n",
       "      <th>...</th>\n",
       "      <td>...</td>\n",
       "      <td>...</td>\n",
       "    </tr>\n",
       "    <tr>\n",
       "      <th>12202</th>\n",
       "      <td>32195</td>\n",
       "      <td>[(11879, 1.0), (29575, 1.0), (15843, 1.0), (21...</td>\n",
       "    </tr>\n",
       "    <tr>\n",
       "      <th>12203</th>\n",
       "      <td>34361</td>\n",
       "      <td>[(11879, 1.0), (29575, 1.0), (15843, 1.0), (21...</td>\n",
       "    </tr>\n",
       "    <tr>\n",
       "      <th>12204</th>\n",
       "      <td>7914</td>\n",
       "      <td>[(11879, 1.0), (29575, 1.0), (15843, 1.0), (21...</td>\n",
       "    </tr>\n",
       "    <tr>\n",
       "      <th>12205</th>\n",
       "      <td>14207</td>\n",
       "      <td>[(11879, 1.0), (29575, 1.0), (15843, 1.0), (21...</td>\n",
       "    </tr>\n",
       "    <tr>\n",
       "      <th>12206</th>\n",
       "      <td>23677</td>\n",
       "      <td>[(11825, 1.0000000000000002), (9630, 0.8164965...</td>\n",
       "    </tr>\n",
       "    <tr>\n",
       "      <th>12207</th>\n",
       "      <td>13959</td>\n",
       "      <td>[(11879, 1.0), (29575, 1.0), (15843, 1.0), (21...</td>\n",
       "    </tr>\n",
       "    <tr>\n",
       "      <th>12208</th>\n",
       "      <td>29994</td>\n",
       "      <td>[(11879, 1.0), (29575, 1.0), (15843, 1.0), (21...</td>\n",
       "    </tr>\n",
       "    <tr>\n",
       "      <th>12209</th>\n",
       "      <td>5559</td>\n",
       "      <td>[(11879, 1.0), (29575, 1.0), (15843, 1.0), (21...</td>\n",
       "    </tr>\n",
       "    <tr>\n",
       "      <th>12210</th>\n",
       "      <td>18197</td>\n",
       "      <td>[(4775, 1.0000000000000002), (7162, 1.00000000...</td>\n",
       "    </tr>\n",
       "    <tr>\n",
       "      <th>12211</th>\n",
       "      <td>18199</td>\n",
       "      <td>[(4775, 1.0000000000000002), (7162, 1.00000000...</td>\n",
       "    </tr>\n",
       "    <tr>\n",
       "      <th>12212</th>\n",
       "      <td>34492</td>\n",
       "      <td>[(11879, 1.0), (29575, 1.0), (15843, 1.0), (21...</td>\n",
       "    </tr>\n",
       "    <tr>\n",
       "      <th>12213</th>\n",
       "      <td>29111</td>\n",
       "      <td>[(11879, 1.0), (29575, 1.0), (15843, 1.0), (21...</td>\n",
       "    </tr>\n",
       "    <tr>\n",
       "      <th>12214</th>\n",
       "      <td>32713</td>\n",
       "      <td>[(11879, 1.0), (29575, 1.0), (15843, 1.0), (21...</td>\n",
       "    </tr>\n",
       "    <tr>\n",
       "      <th>12215</th>\n",
       "      <td>12397</td>\n",
       "      <td>[(2917, 0.99999999999999978), (2540, 0.9999999...</td>\n",
       "    </tr>\n",
       "    <tr>\n",
       "      <th>12216</th>\n",
       "      <td>17833</td>\n",
       "      <td>[(13469, 0.70710678118654746), (15159, 0.70710...</td>\n",
       "    </tr>\n",
       "    <tr>\n",
       "      <th>12217</th>\n",
       "      <td>34491</td>\n",
       "      <td>[(11879, 1.0), (29575, 1.0), (15843, 1.0), (21...</td>\n",
       "    </tr>\n",
       "    <tr>\n",
       "      <th>12218</th>\n",
       "      <td>34312</td>\n",
       "      <td>[(11879, 1.0), (29575, 1.0), (15843, 1.0), (21...</td>\n",
       "    </tr>\n",
       "    <tr>\n",
       "      <th>12219</th>\n",
       "      <td>9504</td>\n",
       "      <td>[(11879, 1.0), (29575, 1.0), (15843, 1.0), (21...</td>\n",
       "    </tr>\n",
       "    <tr>\n",
       "      <th>12220</th>\n",
       "      <td>34388</td>\n",
       "      <td>[(11879, 1.0), (29575, 1.0), (15843, 1.0), (21...</td>\n",
       "    </tr>\n",
       "    <tr>\n",
       "      <th>12221</th>\n",
       "      <td>29992</td>\n",
       "      <td>[(11879, 1.0), (29575, 1.0), (15843, 1.0), (21...</td>\n",
       "    </tr>\n",
       "    <tr>\n",
       "      <th>12222</th>\n",
       "      <td>26031</td>\n",
       "      <td>[(11879, 1.0), (29575, 1.0), (15843, 1.0), (21...</td>\n",
       "    </tr>\n",
       "    <tr>\n",
       "      <th>12223</th>\n",
       "      <td>34399</td>\n",
       "      <td>[(20757, 1.0000000000000002), (31652, 1.000000...</td>\n",
       "    </tr>\n",
       "    <tr>\n",
       "      <th>12224</th>\n",
       "      <td>10368</td>\n",
       "      <td>[(11879, 1.0), (29575, 1.0), (15843, 1.0), (21...</td>\n",
       "    </tr>\n",
       "    <tr>\n",
       "      <th>12225</th>\n",
       "      <td>9352</td>\n",
       "      <td>[(11879, 1.0), (29575, 1.0), (15843, 1.0), (21...</td>\n",
       "    </tr>\n",
       "    <tr>\n",
       "      <th>12226</th>\n",
       "      <td>5541</td>\n",
       "      <td>[(11879, 1.0), (29575, 1.0), (15843, 1.0), (21...</td>\n",
       "    </tr>\n",
       "    <tr>\n",
       "      <th>12227</th>\n",
       "      <td>9316</td>\n",
       "      <td>[(11879, 1.0), (29575, 1.0), (15843, 1.0), (21...</td>\n",
       "    </tr>\n",
       "    <tr>\n",
       "      <th>12228</th>\n",
       "      <td>5543</td>\n",
       "      <td>[(11879, 1.0), (29575, 1.0), (15843, 1.0), (21...</td>\n",
       "    </tr>\n",
       "    <tr>\n",
       "      <th>12229</th>\n",
       "      <td>5621</td>\n",
       "      <td>[(11879, 1.0), (29575, 1.0), (15843, 1.0), (21...</td>\n",
       "    </tr>\n",
       "    <tr>\n",
       "      <th>12230</th>\n",
       "      <td>6133</td>\n",
       "      <td>[(11879, 1.0), (29575, 1.0), (15843, 1.0), (21...</td>\n",
       "    </tr>\n",
       "    <tr>\n",
       "      <th>12231</th>\n",
       "      <td>26081</td>\n",
       "      <td>[(11879, 1.0), (29575, 1.0), (15843, 1.0), (21...</td>\n",
       "    </tr>\n",
       "  </tbody>\n",
       "</table>\n",
       "<p>12232 rows × 2 columns</p>\n",
       "</div>"
      ],
      "text/plain": [
       "       anime_id                         top 10 cosine similarities\n",
       "0         32281  [(547, 1.0), (546, 1.0), (14669, 0.89442719099...\n",
       "1          5114  [(121, 0.93541434669348522), (9135, 0.93541434...\n",
       "2         28977  [(9969, 0.99999999999999989), (15335, 0.999999...\n",
       "3          9253  [(11577, 0.99999999999999978), (10863, 0.99999...\n",
       "4          9969  [(28977, 0.99999999999999989), (15335, 0.99999...\n",
       "5         32935  [(28891, 0.99999999999999978), (20583, 0.99999...\n",
       "6         11061  [(136, 1.0), (137, 1.0), (139, 1.0), (138, 1.0...\n",
       "7           820  [(3665, 1.0), (342, 1.0), (711, 1.0), (11307, ...\n",
       "8         15335  [(28977, 0.99999999999999989), (9969, 0.999999...\n",
       "9         15417  [(28977, 0.99999999999999989), (9969, 0.999999...\n",
       "10         4181  [(1530, 0.89442719099991586), (101, 0.89442719...\n",
       "11        28851  [(11313, 0.86602540378443871), (18317, 0.86602...\n",
       "12          918  [(28977, 0.99999999999999989), (9969, 0.999999...\n",
       "13         2904  [(34437, 1.0000000000000002), (7270, 0.9128709...\n",
       "14        28891  [(32935, 0.99999999999999978), (20583, 0.99999...\n",
       "15          199  [(26359, 0.86602540378443871), (360, 0.8660254...\n",
       "16        23273  [(33743, 0.9128709291752769), (11313, 0.894427...\n",
       "17        24701  [(21939, 0.99999999999999989), (457, 0.9999999...\n",
       "18        12355  [(5203, 0.99999999999999978), (2223, 0.9999999...\n",
       "19         1575  [(4596, 0.9128709291752769), (2124, 0.91287092...\n",
       "20          263  [(5258, 1.0), (19647, 1.0), (627, 1.0), (558, ...\n",
       "21           44  [(2216, 0.83333333333333348), (12279, 0.833333...\n",
       "22            1  [(4037, 1.0000000000000002), (1226, 0.92582009...\n",
       "23        30276  [(31772, 0.99999999999999989), (31704, 0.99999...\n",
       "24          164  [(22199, 1.0000000000000002), (30911, 1.000000...\n",
       "25         7311  [(6974, 0.9128709291752769), (1543, 0.81649658...\n",
       "26        17074  [(5081, 0.89442719099991586), (28929, 0.894427...\n",
       "27        21939  [(24701, 0.99999999999999989), (457, 0.9999999...\n",
       "28          457  [(24701, 0.99999999999999989), (21939, 0.99999...\n",
       "29         2001  [(763, 0.99999999999999978), (3352, 0.99999999...\n",
       "...         ...                                                ...\n",
       "12202     32195  [(11879, 1.0), (29575, 1.0), (15843, 1.0), (21...\n",
       "12203     34361  [(11879, 1.0), (29575, 1.0), (15843, 1.0), (21...\n",
       "12204      7914  [(11879, 1.0), (29575, 1.0), (15843, 1.0), (21...\n",
       "12205     14207  [(11879, 1.0), (29575, 1.0), (15843, 1.0), (21...\n",
       "12206     23677  [(11825, 1.0000000000000002), (9630, 0.8164965...\n",
       "12207     13959  [(11879, 1.0), (29575, 1.0), (15843, 1.0), (21...\n",
       "12208     29994  [(11879, 1.0), (29575, 1.0), (15843, 1.0), (21...\n",
       "12209      5559  [(11879, 1.0), (29575, 1.0), (15843, 1.0), (21...\n",
       "12210     18197  [(4775, 1.0000000000000002), (7162, 1.00000000...\n",
       "12211     18199  [(4775, 1.0000000000000002), (7162, 1.00000000...\n",
       "12212     34492  [(11879, 1.0), (29575, 1.0), (15843, 1.0), (21...\n",
       "12213     29111  [(11879, 1.0), (29575, 1.0), (15843, 1.0), (21...\n",
       "12214     32713  [(11879, 1.0), (29575, 1.0), (15843, 1.0), (21...\n",
       "12215     12397  [(2917, 0.99999999999999978), (2540, 0.9999999...\n",
       "12216     17833  [(13469, 0.70710678118654746), (15159, 0.70710...\n",
       "12217     34491  [(11879, 1.0), (29575, 1.0), (15843, 1.0), (21...\n",
       "12218     34312  [(11879, 1.0), (29575, 1.0), (15843, 1.0), (21...\n",
       "12219      9504  [(11879, 1.0), (29575, 1.0), (15843, 1.0), (21...\n",
       "12220     34388  [(11879, 1.0), (29575, 1.0), (15843, 1.0), (21...\n",
       "12221     29992  [(11879, 1.0), (29575, 1.0), (15843, 1.0), (21...\n",
       "12222     26031  [(11879, 1.0), (29575, 1.0), (15843, 1.0), (21...\n",
       "12223     34399  [(20757, 1.0000000000000002), (31652, 1.000000...\n",
       "12224     10368  [(11879, 1.0), (29575, 1.0), (15843, 1.0), (21...\n",
       "12225      9352  [(11879, 1.0), (29575, 1.0), (15843, 1.0), (21...\n",
       "12226      5541  [(11879, 1.0), (29575, 1.0), (15843, 1.0), (21...\n",
       "12227      9316  [(11879, 1.0), (29575, 1.0), (15843, 1.0), (21...\n",
       "12228      5543  [(11879, 1.0), (29575, 1.0), (15843, 1.0), (21...\n",
       "12229      5621  [(11879, 1.0), (29575, 1.0), (15843, 1.0), (21...\n",
       "12230      6133  [(11879, 1.0), (29575, 1.0), (15843, 1.0), (21...\n",
       "12231     26081  [(11879, 1.0), (29575, 1.0), (15843, 1.0), (21...\n",
       "\n",
       "[12232 rows x 2 columns]"
      ]
     },
     "execution_count": 17,
     "metadata": {},
     "output_type": "execute_result"
    }
   ],
   "source": [
    "cos_sim_csv"
   ]
  },
  {
   "cell_type": "code",
   "execution_count": 18,
   "metadata": {
    "collapsed": true
   },
   "outputs": [],
   "source": [
    "def getCosineSim(dataList):\n",
    "    cosineList=[]\n",
    "    dataList=dataList.replace(\" \",\"\")\n",
    "    dataList=dataList.replace(\"(\",\"\")\n",
    "    if '),' in dataList:\n",
    "        parsed_data=dataList[1:len(dataList)-1].split(\"),\")\n",
    "        format_data=map((lambda x :x.split(',')),parsed_data)\n",
    "        data=list(format_data)\n",
    "        data[len(data)-1][1]=data[len(data)-1][1].replace(\")\",\"\")\n",
    "    else:\n",
    "        dataList=dataList.replace(\")\",\"\")\n",
    "        dataList=dataList.replace(\"[\",\"\")\n",
    "        dataList=dataList.replace(\"]\",\"\")\n",
    "        data=[dataList.split(\",\")]\n",
    "    return data"
   ]
  },
  {
   "cell_type": "code",
   "execution_count": 19,
   "metadata": {
    "collapsed": true,
    "scrolled": false
   },
   "outputs": [],
   "source": [
    "cosine_sim_table=defaultdict(list)\n",
    "for key, row in cos_sim_csv.iterrows():\n",
    "    data_list=getCosineSim(row['top 10 cosine similarities'])\n",
    "    for data in data_list:\n",
    "        cosine_sim_table[row['anime_id']].append((int(data[0]),float(data[1])))\n",
    "    "
   ]
  },
  {
   "cell_type": "code",
   "execution_count": null,
   "metadata": {
    "collapsed": true
   },
   "outputs": [],
   "source": [
    "cosine_sim_table"
   ]
  },
  {
   "cell_type": "code",
   "execution_count": null,
   "metadata": {
    "collapsed": true
   },
   "outputs": [],
   "source": [
    "anime_list = pd.read_table(\"anime.csv\", sep=\",\")\n",
    "user_list= pd.read_table(\"rating.csv\", sep=\",\", dtype = int)\n",
    "\n",
    "R_df=pd.pivot_table(user_list,values='rating',index='user_id',columns='anime_id').fillna(-1)\n",
    "\n",
    "R = R_df.as_matrix()\n",
    "\n",
    "user_ratings_mean = np.mean(R, axis = 1)\n",
    "R_demeaned = R - user_ratings_mean.reshape(-1, 1)\n",
    "\n",
    "from scipy.sparse.linalg import svds\n",
    "\n",
    "U, sigma, Vt = svds(R_demeaned, k = 50)\n",
    "\n",
    "sigma = np.diag(sigma)\n",
    "\n",
    "all_user_predicted_ratings = np.dot(np.dot(U, sigma), Vt) + user_ratings_mean.reshape(-1, 1)\n",
    "preds_df = pd.DataFrame(all_user_predicted_ratings, columns = R_df.columns)\n",
    "\n",
    "\n",
    "def recommend_movies(predictions_df, userID, movies_df, original_ratings_df, num_recommendations=5):\n",
    "    \n",
    "    # Get and sort the user's predictions\n",
    "    user_row_number = userID - 1 # UserID starts at 1, not 0\n",
    "    sorted_user_predictions = predictions_df.iloc[user_row_number].sort_values(ascending=False)\n",
    "    \n",
    "    # Get the user's data and merge in the movie information.\n",
    "    user_data = original_ratings_df[original_ratings_df.UserID == (userID)]\n",
    "    user_full = (user_data.merge(movies_df, how = 'left', left_on = 'anime_id', right_on = 'anime_id').\n",
    "                     sort_values(['rating'], ascending=False)\n",
    "                 )\n",
    "\n",
    "    print 'User {0} has already rated {1} animes.'.format(userID, user_full.shape[0])\n",
    "    print 'Recommending the highest {0} predicted ratings animes not already rated.'.format(num_recommendations)\n",
    "    \n",
    "    # Recommend the highest predicted rating movies that the user hasn't seen yet.\n",
    "    recommendations = (movies_df[~movies_df['anime_id'].isin(user_full['anime_id'])].\n",
    "         merge(pd.DataFrame(sorted_user_predictions).reset_index(), how = 'left',\n",
    "               left_on = 'anime_id',\n",
    "               right_on = 'anime_id').\n",
    "         rename(columns = {user_row_number: 'Predictions'}).\n",
    "         sort_values('Predictions', ascending = False).\n",
    "                       iloc[:num_recommendations, :-1]\n",
    "                      )\n",
    "\n",
    "    return user_full, recommendations\n",
    "\n",
    "already_rated, predictions = recommend_movies(preds_df, 837, anime_list, user_list, 10)"
   ]
  },
  {
   "cell_type": "markdown",
   "metadata": {},
   "source": [
    "## Dataset Creation & Scrambler"
   ]
  },
  {
   "cell_type": "code",
   "execution_count": 179,
   "metadata": {
    "collapsed": true
   },
   "outputs": [],
   "source": [
    "user_data_scrambled=us.sample(frac=1).reset_index(drop=True)"
   ]
  },
  {
   "cell_type": "code",
   "execution_count": 180,
   "metadata": {
    "collapsed": true
   },
   "outputs": [],
   "source": [
    "train_data=defaultdict(list)\n",
    "validation_data=defaultdict(list)\n",
    "for index, row in user_data_scrambled.iterrows():\n",
    "    if index < (len(user_data_scrambled)/2):\n",
    "        train_data[row['user_id']].append((row['anime_id'],row['rating']))\n",
    "    else:\n",
    "        validation_data[row['user_id']].append((row['anime_id'],row['rating']))"
   ]
  },
  {
   "cell_type": "code",
   "execution_count": 181,
   "metadata": {
    "collapsed": true
   },
   "outputs": [],
   "source": [
    "train_data_sorted=defaultdict(list)\n",
    "for x in train_data:\n",
    "    train_data_sorted[x]=sorted(train_data[x],key=lambda x : x[1],reverse=True)"
   ]
  },
  {
   "cell_type": "markdown",
   "metadata": {},
   "source": [
    "## Test set prediction"
   ]
  },
  {
   "cell_type": "code",
   "execution_count": 182,
   "metadata": {
    "collapsed": true
   },
   "outputs": [],
   "source": [
    "result = defaultdict(list)\n",
    "for key in train_data_sorted:\n",
    "    for i in range(0, 5):\n",
    "        animeID_length = len(train_data_sorted[key])\n",
    "        if animeID_length > i:\n",
    "            animeID = train_data_sorted[key][i][0]\n",
    "            if animeID in cosine_sim_table:\n",
    "                first_two = cosine_sim_table[animeID][:2]\n",
    "                result[key].append([x[0] for x in first_two])"
   ]
  },
  {
   "cell_type": "code",
   "execution_count": 183,
   "metadata": {
    "collapsed": true
   },
   "outputs": [],
   "source": [
    "def comparisonInValid(animeId,user):\n",
    "    for x in validation_data[user]:\n",
    "        if animeId==x[0]:\n",
    "            return True"
   ]
  },
  {
   "cell_type": "code",
   "execution_count": 184,
   "metadata": {
    "collapsed": true
   },
   "outputs": [],
   "source": [
    "correct_pred=0\n",
    "found_movie=False\n",
    "for user in result:\n",
    "    for recs in result[user]:\n",
    "        for x in recs:\n",
    "            if comparisonInValid(x,user):\n",
    "                correct_pred+=1\n",
    "                found_movie=True\n",
    "                break\n",
    "        if found_movie:\n",
    "            found_movie=False\n",
    "            break"
   ]
  },
  {
   "cell_type": "code",
   "execution_count": 185,
   "metadata": {},
   "outputs": [
    {
     "name": "stdout",
     "output_type": "stream",
     "text": [
      "0.5619284655611175\n"
     ]
    }
   ],
   "source": [
    "print(correct_pred/len(result))"
   ]
  },
  {
   "cell_type": "markdown",
   "metadata": {},
   "source": [
    "## Basis Calculation"
   ]
  },
  {
   "cell_type": "code",
   "execution_count": 143,
   "metadata": {
    "collapsed": true
   },
   "outputs": [],
   "source": [
    "# Stays constant, no need to rerun\n",
    "genrePop=defaultdict(list)\n",
    "for index, row in df.iterrows():\n",
    "    if not df.loc[[index]]['genre'].isnull().values[0]:\n",
    "        for x in row['genre'].split(', '):\n",
    "            genrePop[x].append((row['anime_id'],row['rating']))"
   ]
  },
  {
   "cell_type": "code",
   "execution_count": 144,
   "metadata": {
    "collapsed": true
   },
   "outputs": [],
   "source": [
    "# Stays constant, no need to rerun\n",
    "genrePop_sorted=defaultdict(list)\n",
    "for key in genrePop:\n",
    "    genrePop_sorted[key]=sorted(genrePop[key],key=lambda x : x[1], reverse=True)"
   ]
  },
  {
   "cell_type": "code",
   "execution_count": 165,
   "metadata": {
    "collapsed": true
   },
   "outputs": [],
   "source": [
    "train_data_genre=defaultdict(list)\n",
    "for key in train_data_sorted:\n",
    "    for x,r in train_data_sorted[key]:\n",
    "        if int(x) in animeList:\n",
    "            catList= getCategory(getData(animeList[int(x)]['genre']))\n",
    "            for x in catList:\n",
    "                train_data_genre[key].append(x)"
   ]
  },
  {
   "cell_type": "code",
   "execution_count": 166,
   "metadata": {
    "collapsed": true
   },
   "outputs": [],
   "source": [
    "import collections\n"
   ]
  },
  {
   "cell_type": "code",
   "execution_count": 167,
   "metadata": {
    "collapsed": true
   },
   "outputs": [],
   "source": [
    "prediction_data_genre =defaultdict(list)\n",
    "\n",
    "for key in train_data_genre:\n",
    "    counter=collections.Counter(train_data_genre[key])\n",
    "    prediction_data_genre[key]=counter.most_common(2)\n"
   ]
  },
  {
   "cell_type": "code",
   "execution_count": 168,
   "metadata": {
    "collapsed": true
   },
   "outputs": [],
   "source": [
    "prediction_data=defaultdict(list)\n",
    "\n",
    "for key in prediction_data_genre:\n",
    "    for i in range(0,5):\n",
    "        if len(prediction_data_genre[key])>0:\n",
    "            prediction_data[key].append(genrePop_sorted[prediction_data_genre[key][0][0]][i][0])\n",
    "        if len(prediction_data_genre[key])>1:\n",
    "            prediction_data[key].append(genrePop_sorted[prediction_data_genre[key][1][0]][i][0])"
   ]
  },
  {
   "cell_type": "code",
   "execution_count": 169,
   "metadata": {
    "collapsed": true
   },
   "outputs": [],
   "source": [
    "def comparisonInValid(animeId,user):\n",
    "    for x in validation_data[user]:\n",
    "        if animeId==x[0]:\n",
    "            return True"
   ]
  },
  {
   "cell_type": "code",
   "execution_count": 170,
   "metadata": {
    "collapsed": true
   },
   "outputs": [],
   "source": [
    "correct_pred_basis=0\n",
    "for user in prediction_data:\n",
    "    for recs in prediction_data[user]:\n",
    "        if comparisonInValid(recs,user):\n",
    "            correct_pred_basis+=1\n",
    "            break\n"
   ]
  },
  {
   "cell_type": "code",
   "execution_count": 171,
   "metadata": {},
   "outputs": [
    {
     "name": "stdout",
     "output_type": "stream",
     "text": [
      "0.30719584258832405\n"
     ]
    }
   ],
   "source": [
    "print(correct_pred_basis/len(prediction_data))"
   ]
  },
  {
   "cell_type": "markdown",
   "metadata": {},
   "source": [
    "## Plot results vs baseline"
   ]
  },
  {
   "cell_type": "code",
   "execution_count": 186,
   "metadata": {
    "collapsed": true
   },
   "outputs": [],
   "source": [
    "import matplotlib.pyplot as plt"
   ]
  },
  {
   "cell_type": "code",
   "execution_count": 212,
   "metadata": {},
   "outputs": [
    {
     "data": {
      "image/png": "[encoded data removed]",
      "text/plain": [
       "<matplotlib.figure.Figure at 0x1de46f464e0>"
      ]
     },
     "metadata": {},
     "output_type": "display_data"
    }
   ],
   "source": [
    "REC_RESULTS = [0.564464265742087, \n",
    "               0.5598565007398308, \n",
    "               0.5657113312745413, \n",
    "               0.5632301157006316,\n",
    "               0.5619284655611175]\n",
    "\n",
    "BASELINE_RESULTS = [0.30680658999762445, \n",
    "                    0.30674204355108875, \n",
    "                    0.30676439790575916, \n",
    "                    0.3071615147155369, \n",
    "                    0.30719584258832405]\n",
    "\n",
    "TEST_NUM = [1, 2, 3, 4, 5]\n",
    "\n",
    "plt.clf()\n",
    "plt.plot(TEST_NUM, REC_RESULTS, label='Results')\n",
    "plt.scatter(TEST_NUM, REC_RESULTS)\n",
    "plt.plot(TEST_NUM, BASELINE_RESULTS, label='Baseline')\n",
    "plt.scatter(TEST_NUM, BASELINE_RESULTS)\n",
    "plt.legend()\n",
    "plt.xlim([1, 5])\n",
    "plt.ylim([0, 1])\n",
    "plt.xticks([1, 2, 3, 4, 5])\n",
    "plt.xlabel('Test #')\n",
    "plt.ylabel('Percentage Match')\n",
    "plt.show()\n",
    "plt.clf()"
   ]
  },
  {
   "cell_type": "markdown",
   "metadata": {},
   "source": [
    "**Relevant research article:**\n",
    "\n",
    "http://jill-jenn.net/_static/works/mangaki-recsys2015.pdf "
   ]
  }
 ],
 "metadata": {
  "kernelspec": {
   "display_name": "Python 2",
   "language": "python",
   "name": "python2"
  },
  "language_info": {
   "codemirror_mode": {
    "name": "ipython",
    "version": 2
   },
   "file_extension": ".py",
   "mimetype": "text/x-python",
   "name": "python",
   "nbconvert_exporter": "python",
   "pygments_lexer": "ipython2",
   "version": "2.7.13"
  }
 },
 "nbformat": 4,
 "nbformat_minor": 2
}
