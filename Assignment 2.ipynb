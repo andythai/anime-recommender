{
 "cells": [
  {
   "cell_type": "code",
   "execution_count": 10,
   "metadata": {
    "collapsed": true
   },
   "outputs": [],
   "source": [
    "import csv\n",
    "from pprint import pprint\n",
    "from collections import defaultdict\n",
    "import pandas as pd \n",
    "import numpy as np"
   ]
  },
  {
   "cell_type": "code",
   "execution_count": 2,
   "metadata": {
    "collapsed": true
   },
   "outputs": [],
   "source": [
    "df = pd.read_table(\"anime.csv\", sep=\",\")\n",
    "us = pd.read_table(\"rating.csv\", sep=\",\")"
   ]
  },
  {
   "cell_type": "code",
   "execution_count": 3,
   "metadata": {
    "collapsed": true
   },
   "outputs": [],
   "source": [
    "animeList={} #Anime and their data\n",
    "genreList=defaultdict(list) #Animes sorted by genre\n",
    "userList=defaultdict(list) #User's list of anime and rating in a (anime_id,rating) structure\n",
    "userRating=defaultdict(list) #User's rating\n",
    "userCategory=defaultdict(set) #User's list of categories they have watched"
   ]
  },
  {
   "cell_type": "code",
   "execution_count": 4,
   "metadata": {
    "collapsed": true
   },
   "outputs": [],
   "source": [
    "# To Get data from animeList. dictionary = animeList['id']['data']\n",
    "def getData(dictionary):\n",
    "    if not dictionary.isnull().values[0]:\n",
    "        return dictionary.values[0]\n",
    "    else:\n",
    "        return 0"
   ]
  },
  {
   "cell_type": "code",
   "execution_count": 5,
   "metadata": {
    "collapsed": true
   },
   "outputs": [],
   "source": [
    "def getCategory(data):\n",
    "    cat=[]\n",
    "    if data:\n",
    "        for x in data.split(', '):\n",
    "            cat.append(x)\n",
    "    return cat"
   ]
  },
  {
   "cell_type": "code",
   "execution_count": 6,
   "metadata": {
    "collapsed": true
   },
   "outputs": [],
   "source": [
    "for index, row in df.iterrows():\n",
    "    animeList[row['anime_id']]=df.loc[[index]]\n",
    "    if not df.loc[[index]]['genre'].isnull().values[0]:\n",
    "        for x in row['genre'].split(', '):\n",
    "            genreList[x].append(row['anime_id'])"
   ]
  },
  {
   "cell_type": "code",
   "execution_count": 7,
   "metadata": {
    "collapsed": true
   },
   "outputs": [],
   "source": [
    "for index, row in us.iterrows():\n",
    "    userList[row['user_id']].append(row['anime_id'])\n",
    "    userRating[row['user_id']].append(row['rating'])"
   ]
  },
  {
   "cell_type": "code",
   "execution_count": 8,
   "metadata": {},
   "outputs": [],
   "source": [
    "for index, row in us.iterrows():\n",
    "    if int(row['anime_id']) in animeList:\n",
    "        catList= getCategory(getData(animeList[int(row['anime_id'])]['genre']))\n",
    "        for x in catList:\n",
    "            userCategory[row['user_id']].add(x)\n",
    "    "
   ]
  },
  {
   "cell_type": "code",
   "execution_count": 19,
   "metadata": {},
   "outputs": [],
   "source": [
    "#Average rating per user including -1 for no review (KEEP or remove -1???)\n",
    "averageUser=defaultdict(float)\n",
    "stdUser=defaultdict(float)\n",
    "for key in userRating:\n",
    "    averageUser[key]=np.mean(userRating[key])\n",
    "    stdUser[key]=np.std(userRating[key])"
   ]
  }
 ],
 "metadata": {
  "kernelspec": {
   "display_name": "Python 3",
   "language": "python",
   "name": "python3"
  },
  "language_info": {
   "codemirror_mode": {
    "name": "ipython",
    "version": 3
   },
   "file_extension": ".py",
   "mimetype": "text/x-python",
   "name": "python",
   "nbconvert_exporter": "python",
   "pygments_lexer": "ipython3",
   "version": "3.6.0"
  }
 },
 "nbformat": 4,
 "nbformat_minor": 2
}
